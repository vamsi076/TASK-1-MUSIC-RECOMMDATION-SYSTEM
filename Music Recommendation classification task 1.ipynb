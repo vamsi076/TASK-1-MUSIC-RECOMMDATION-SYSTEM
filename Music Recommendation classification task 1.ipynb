{
 "cells": [
  {
   "cell_type": "code",
   "execution_count": null,
   "metadata": {
    "_cell_guid": "b1076dfc-b9ad-4769-8c92-a6c4dae69d19",
    "_uuid": "8f2839f25d086af736a60e9eeb907d3b93b6e0e5",
    "execution": {
     "iopub.execute_input": "2023-02-03T13:52:53.650427Z",
     "iopub.status.busy": "2023-02-03T13:52:53.649542Z",
     "iopub.status.idle": "2023-02-03T13:52:54.264936Z",
     "shell.execute_reply": "2023-02-03T13:52:54.263691Z",
     "shell.execute_reply.started": "2023-02-03T13:52:53.650303Z"
    },
    "trusted": true
   },
   "outputs": [],
   "source": [
    "import numpy as np # linear algebra\n",
    "import pandas as pd # data processing, CSV file I/O\n",
    "import seaborn as sns\n",
    "import matplotlib.pyplot as plt\n",
    "from matplotlib import rcParams\n",
    "from sklearn.decomposition import PCA\n",
    "from sklearn.metrics import accuracy_score, classification_report, confusion_matrix\n",
    "from sklearn.model_selection import train_test_split, cross_val_score, KFold\n",
    "from itertools import product\n",
    "import time\n",
    "%matplotlib inline"
   ]
  },
  {
   "cell_type": "code",
   "execution_count": null,
   "metadata": {
    "execution": {
     "iopub.execute_input": "2023-02-03T13:52:55.661052Z",
     "iopub.status.busy": "2023-02-03T13:52:55.660521Z",
     "iopub.status.idle": "2023-02-03T13:52:56.054151Z",
     "shell.execute_reply": "2023-02-03T13:52:56.052818Z",
     "shell.execute_reply.started": "2023-02-03T13:52:55.661006Z"
    },
    "trusted": true
   },
   "outputs": [],
   "source": [
    "df = pd.read_csv('../input/dataset-of-songs-in-spotify/genres_v2.csv')"
   ]
  },
  {
   "cell_type": "code",
   "execution_count": null,
   "metadata": {
    "execution": {
     "iopub.execute_input": "2023-02-03T13:52:58.627225Z",
     "iopub.status.busy": "2023-02-03T13:52:58.626828Z",
     "iopub.status.idle": "2023-02-03T13:52:58.671105Z",
     "shell.execute_reply": "2023-02-03T13:52:58.669851Z",
     "shell.execute_reply.started": "2023-02-03T13:52:58.627192Z"
    },
    "trusted": true
   },
   "outputs": [],
   "source": [
    "df.info()"
   ]
  },
  {
   "cell_type": "code",
   "execution_count": null,
   "metadata": {
    "execution": {
     "iopub.execute_input": "2023-02-03T13:53:01.211395Z",
     "iopub.status.busy": "2023-02-03T13:53:01.210829Z",
     "iopub.status.idle": "2023-02-03T13:53:01.252483Z",
     "shell.execute_reply": "2023-02-03T13:53:01.251081Z",
     "shell.execute_reply.started": "2023-02-03T13:53:01.211332Z"
    },
    "trusted": true
   },
   "outputs": [],
   "source": [
    "df.head()"
   ]
  },
  {
   "cell_type": "code",
   "execution_count": null,
   "metadata": {
    "execution": {
     "iopub.execute_input": "2023-02-03T13:53:10.423859Z",
     "iopub.status.busy": "2023-02-03T13:53:10.423327Z",
     "iopub.status.idle": "2023-02-03T13:53:10.45302Z",
     "shell.execute_reply": "2023-02-03T13:53:10.451829Z",
     "shell.execute_reply.started": "2023-02-03T13:53:10.423817Z"
    },
    "trusted": true
   },
   "outputs": [],
   "source": [
    "print(f'There are {df.shape[0]} rows and {df.shape[1]} columns in dataset.\\n')\n",
    "df.isnull().sum() "
   ]
  },
  {
   "cell_type": "code",
   "execution_count": null,
   "metadata": {
    "execution": {
     "iopub.execute_input": "2023-02-03T13:53:28.741464Z",
     "iopub.status.busy": "2023-02-03T13:53:28.740883Z",
     "iopub.status.idle": "2023-02-03T13:53:28.822184Z",
     "shell.execute_reply": "2023-02-03T13:53:28.820715Z",
     "shell.execute_reply.started": "2023-02-03T13:53:28.741413Z"
    },
    "trusted": true
   },
   "outputs": [],
   "source": [
    "# drop unnecessary columns\n",
    "df = df.drop(columns=['title', 'Unnamed: 0', 'id', 'uri', 'track_href', 'analysis_url'])  # axis=1\n",
    "\n",
    "# drop duplicates\n",
    "df = df.drop_duplicates()\n",
    "\n",
    "print(f'There are {df.shape[0]} rows and {df.shape[1]} columns in dataset.\\n')\n",
    "df.isnull().sum()"
   ]
  },
  {
   "cell_type": "markdown",
   "metadata": {},
   "source": [
    "## EDA"
   ]
  },
  {
   "cell_type": "code",
   "execution_count": null,
   "metadata": {
    "execution": {
     "iopub.execute_input": "2023-02-03T13:53:56.906505Z",
     "iopub.status.busy": "2023-02-03T13:53:56.905959Z",
     "iopub.status.idle": "2023-02-03T13:53:56.921504Z",
     "shell.execute_reply": "2023-02-03T13:53:56.920452Z",
     "shell.execute_reply.started": "2023-02-03T13:53:56.906453Z"
    },
    "trusted": true
   },
   "outputs": [],
   "source": [
    "print(f\"Number of genres in given dataset: {len(df['genre'].unique())}\\n\")\n",
    "\n",
    "df[\"genre\"].unique()"
   ]
  },
  {
   "cell_type": "code",
   "execution_count": null,
   "metadata": {
    "execution": {
     "iopub.execute_input": "2023-02-03T13:54:03.962393Z",
     "iopub.status.busy": "2023-02-03T13:54:03.961889Z",
     "iopub.status.idle": "2023-02-03T13:54:03.974157Z",
     "shell.execute_reply": "2023-02-03T13:54:03.973292Z",
     "shell.execute_reply.started": "2023-02-03T13:54:03.962336Z"
    },
    "trusted": true
   },
   "outputs": [],
   "source": [
    "df['genre'].value_counts()"
   ]
  },
  {
   "cell_type": "code",
   "execution_count": null,
   "metadata": {
    "execution": {
     "iopub.execute_input": "2023-02-03T13:54:10.286988Z",
     "iopub.status.busy": "2023-02-03T13:54:10.28652Z",
     "iopub.status.idle": "2023-02-03T13:54:12.726277Z",
     "shell.execute_reply": "2023-02-03T13:54:12.724945Z",
     "shell.execute_reply.started": "2023-02-03T13:54:10.286951Z"
    },
    "trusted": true
   },
   "outputs": [],
   "source": [
    "# Count of each genre\n",
    "import plotly.express as px\n",
    "px.histogram(df.genre)"
   ]
  },
  {
   "cell_type": "code",
   "execution_count": null,
   "metadata": {
    "execution": {
     "iopub.execute_input": "2023-02-03T13:54:22.157285Z",
     "iopub.status.busy": "2023-02-03T13:54:22.156803Z",
     "iopub.status.idle": "2023-02-03T13:54:22.231962Z",
     "shell.execute_reply": "2023-02-03T13:54:22.230726Z",
     "shell.execute_reply.started": "2023-02-03T13:54:22.157249Z"
    },
    "trusted": true
   },
   "outputs": [],
   "source": [
    "# Top 10 genre pie chart\n",
    "df_genre = df['genre'].value_counts().head(10)\n",
    "\n",
    "fig = px.pie(df_genre, names=df_genre.index, values=df_genre.values, title='Distribution of popular genre', labels=df_genre.index)\n",
    "fig.show()"
   ]
  },
  {
   "cell_type": "markdown",
   "metadata": {},
   "source": [
    "## Preprocess the Data"
   ]
  },
  {
   "cell_type": "code",
   "execution_count": null,
   "metadata": {
    "execution": {
     "iopub.execute_input": "2023-02-03T13:54:42.767742Z",
     "iopub.status.busy": "2023-02-03T13:54:42.767171Z",
     "iopub.status.idle": "2023-02-03T13:54:42.793731Z",
     "shell.execute_reply": "2023-02-03T13:54:42.792522Z",
     "shell.execute_reply.started": "2023-02-03T13:54:42.767701Z"
    },
    "trusted": true
   },
   "outputs": [],
   "source": [
    "# Creating a new dataframe with required features\n",
    "df_x = df[df.columns[:11]]\n",
    "df_x.head()"
   ]
  },
  {
   "cell_type": "code",
   "execution_count": null,
   "metadata": {
    "execution": {
     "iopub.execute_input": "2023-02-03T13:55:05.915326Z",
     "iopub.status.busy": "2023-02-03T13:55:05.914135Z",
     "iopub.status.idle": "2023-02-03T13:55:05.944046Z",
     "shell.execute_reply": "2023-02-03T13:55:05.94315Z",
     "shell.execute_reply.started": "2023-02-03T13:55:05.915267Z"
    },
    "trusted": true
   },
   "outputs": [],
   "source": [
    "df_new = df_x.copy()\n",
    "df_new['genre'] = df['genre']\n",
    "df_new['time_signature'] = df['time_signature']\n",
    "df_new['duration_ms'] = df['duration_ms']\n",
    "\n",
    "df_new.head()"
   ]
  },
  {
   "cell_type": "code",
   "execution_count": null,
   "metadata": {
    "execution": {
     "iopub.execute_input": "2023-02-03T13:55:12.764577Z",
     "iopub.status.busy": "2023-02-03T13:55:12.764107Z",
     "iopub.status.idle": "2023-02-03T13:55:12.786894Z",
     "shell.execute_reply": "2023-02-03T13:55:12.785859Z",
     "shell.execute_reply.started": "2023-02-03T13:55:12.764539Z"
    },
    "trusted": true
   },
   "outputs": [],
   "source": [
    "df_new['duration_min'] = df_new['duration_ms']/60000\n",
    "df_new.drop('duration_ms',axis=1,inplace=True)"
   ]
  },
  {
   "cell_type": "code",
   "execution_count": null,
   "metadata": {
    "execution": {
     "iopub.execute_input": "2023-02-03T13:55:18.306999Z",
     "iopub.status.busy": "2023-02-03T13:55:18.306567Z",
     "iopub.status.idle": "2023-02-03T13:55:18.337609Z",
     "shell.execute_reply": "2023-02-03T13:55:18.336551Z",
     "shell.execute_reply.started": "2023-02-03T13:55:18.306968Z"
    },
    "trusted": true
   },
   "outputs": [],
   "source": [
    "df_new"
   ]
  },
  {
   "cell_type": "markdown",
   "metadata": {},
   "source": [
    "### Correlation analysys"
   ]
  },
  {
   "cell_type": "code",
   "execution_count": null,
   "metadata": {
    "execution": {
     "iopub.execute_input": "2023-02-03T13:55:56.010084Z",
     "iopub.status.busy": "2023-02-03T13:55:56.009577Z",
     "iopub.status.idle": "2023-02-03T13:55:56.168169Z",
     "shell.execute_reply": "2023-02-03T13:55:56.166692Z",
     "shell.execute_reply.started": "2023-02-03T13:55:56.010041Z"
    },
    "trusted": true
   },
   "outputs": [],
   "source": [
    "# There is no highly correlated values - do not drop any features\n",
    "from sklearn.preprocessing import LabelEncoder\n",
    "df2Corr = df_new.copy()\n",
    "df2Corr['genre'] = LabelEncoder().fit_transform(df2Corr['genre'])\n",
    "corrMx = df2Corr.corr()\n",
    "corrMx.style.background_gradient(cmap = \"RdBu_r\")"
   ]
  },
  {
   "cell_type": "code",
   "execution_count": null,
   "metadata": {
    "execution": {
     "iopub.execute_input": "2023-02-03T13:56:04.186611Z",
     "iopub.status.busy": "2023-02-03T13:56:04.186155Z",
     "iopub.status.idle": "2023-02-03T13:56:05.016125Z",
     "shell.execute_reply": "2023-02-03T13:56:05.015027Z",
     "shell.execute_reply.started": "2023-02-03T13:56:04.186573Z"
    },
    "trusted": true
   },
   "outputs": [],
   "source": [
    "f,ax = plt.subplots(figsize=(12, 12))\n",
    "mask = np.zeros_like(df2Corr.corr())\n",
    "mask[np.triu_indices_from(mask)] = True\n",
    "sns.heatmap(df2Corr.corr(), annot=True, linewidths=0.4,linecolor=\"white\", fmt= '.1f',ax=ax,cmap=\"Blues\",mask=mask)\n",
    "plt.show() "
   ]
  },
  {
   "cell_type": "markdown",
   "metadata": {},
   "source": [
    "### Feature Scaling and Normalization"
   ]
  },
  {
   "cell_type": "code",
   "execution_count": null,
   "metadata": {
    "execution": {
     "iopub.execute_input": "2023-02-03T13:56:53.842503Z",
     "iopub.status.busy": "2023-02-03T13:56:53.842045Z",
     "iopub.status.idle": "2023-02-03T13:56:53.867585Z",
     "shell.execute_reply": "2023-02-03T13:56:53.865796Z",
     "shell.execute_reply.started": "2023-02-03T13:56:53.842463Z"
    },
    "trusted": true
   },
   "outputs": [],
   "source": [
    "from sklearn.preprocessing import LabelEncoder\n",
    "df_new['genre_enco'] = LabelEncoder().fit_transform(df_new['genre'])\n",
    "df_new['genre_enco'].value_counts()"
   ]
  },
  {
   "cell_type": "code",
   "execution_count": null,
   "metadata": {
    "execution": {
     "iopub.execute_input": "2023-02-03T13:57:05.043584Z",
     "iopub.status.busy": "2023-02-03T13:57:05.043017Z",
     "iopub.status.idle": "2023-02-03T13:57:05.056742Z",
     "shell.execute_reply": "2023-02-03T13:57:05.055529Z",
     "shell.execute_reply.started": "2023-02-03T13:57:05.043543Z"
    },
    "trusted": true
   },
   "outputs": [],
   "source": [
    "X1 = df_new.drop(columns=['genre','genre_enco'])\n",
    "Y1 = df_new[\"genre_enco\"]\n",
    "print(X1.shape)"
   ]
  },
  {
   "cell_type": "code",
   "execution_count": null,
   "metadata": {
    "execution": {
     "iopub.execute_input": "2023-02-03T13:57:36.642181Z",
     "iopub.status.busy": "2023-02-03T13:57:36.641675Z",
     "iopub.status.idle": "2023-02-03T13:57:36.668001Z",
     "shell.execute_reply": "2023-02-03T13:57:36.666733Z",
     "shell.execute_reply.started": "2023-02-03T13:57:36.642134Z"
    },
    "trusted": true
   },
   "outputs": [],
   "source": [
    "# feature scaling and normalization\n",
    "from sklearn.preprocessing import StandardScaler, MinMaxScaler, RobustScaler\n",
    "X1_std = StandardScaler().fit_transform(X1)"
   ]
  },
  {
   "cell_type": "markdown",
   "metadata": {},
   "source": [
    "### SMOTE"
   ]
  },
  {
   "cell_type": "code",
   "execution_count": null,
   "metadata": {
    "execution": {
     "iopub.execute_input": "2023-02-03T13:58:03.690633Z",
     "iopub.status.busy": "2023-02-03T13:58:03.690145Z",
     "iopub.status.idle": "2023-02-03T13:58:05.714741Z",
     "shell.execute_reply": "2023-02-03T13:58:05.713544Z",
     "shell.execute_reply.started": "2023-02-03T13:58:03.690596Z"
    },
    "trusted": true
   },
   "outputs": [],
   "source": [
    "from imblearn.over_sampling import SMOTE\n",
    "\n",
    "smote = SMOTE()\n",
    "X1, Y1 = smote.fit_resample(X1_std, Y1)\n",
    "\n",
    "print(X1.shape)"
   ]
  },
  {
   "cell_type": "markdown",
   "metadata": {},
   "source": [
    "## Model"
   ]
  },
  {
   "cell_type": "code",
   "execution_count": null,
   "metadata": {
    "execution": {
     "iopub.execute_input": "2023-02-03T14:03:49.53284Z",
     "iopub.status.busy": "2023-02-03T14:03:49.53235Z",
     "iopub.status.idle": "2023-02-03T14:03:49.56167Z",
     "shell.execute_reply": "2023-02-03T14:03:49.560609Z",
     "shell.execute_reply.started": "2023-02-03T14:03:49.532801Z"
    },
    "trusted": true
   },
   "outputs": [],
   "source": [
    "X_train, X_test, y_train, y_test = train_test_split(X1, Y1, test_size=.2, random_state=1, shuffle=True)"
   ]
  },
  {
   "cell_type": "code",
   "execution_count": null,
   "metadata": {
    "execution": {
     "iopub.execute_input": "2023-02-03T14:04:00.425212Z",
     "iopub.status.busy": "2023-02-03T14:04:00.424635Z",
     "iopub.status.idle": "2023-02-03T14:04:00.431556Z",
     "shell.execute_reply": "2023-02-03T14:04:00.430638Z",
     "shell.execute_reply.started": "2023-02-03T14:04:00.425162Z"
    },
    "trusted": true
   },
   "outputs": [],
   "source": [
    "print(X_train.shape)\n",
    "print(X_test.shape)"
   ]
  },
  {
   "cell_type": "code",
   "execution_count": null,
   "metadata": {
    "execution": {
     "iopub.execute_input": "2023-02-03T14:04:08.087735Z",
     "iopub.status.busy": "2023-02-03T14:04:08.087238Z",
     "iopub.status.idle": "2023-02-03T14:04:08.093781Z",
     "shell.execute_reply": "2023-02-03T14:04:08.092351Z",
     "shell.execute_reply.started": "2023-02-03T14:04:08.087694Z"
    },
    "trusted": true
   },
   "outputs": [],
   "source": [
    "scoring = [['model','accuracy']]"
   ]
  },
  {
   "cell_type": "markdown",
   "metadata": {},
   "source": [
    "### Bulding models"
   ]
  },
  {
   "cell_type": "code",
   "execution_count": null,
   "metadata": {
    "execution": {
     "iopub.execute_input": "2023-02-03T14:04:39.813266Z",
     "iopub.status.busy": "2023-02-03T14:04:39.812778Z",
     "iopub.status.idle": "2023-02-03T14:04:39.820053Z",
     "shell.execute_reply": "2023-02-03T14:04:39.818795Z",
     "shell.execute_reply.started": "2023-02-03T14:04:39.813224Z"
    },
    "trusted": true
   },
   "outputs": [],
   "source": [
    "def buildModel(model, X_train, X_test, y_train, y_test):\n",
    "    model.fit(X_train, y_train)  # train model\n",
    "    yhat = model.predict(X_test) # predict\n",
    "    score = accuracy_score(y_test, yhat)\n",
    "    return {\n",
    "      \"predict\": yhat,\n",
    "      \"accuracy\": score\n",
    "    }"
   ]
  },
  {
   "cell_type": "code",
   "execution_count": null,
   "metadata": {
    "execution": {
     "iopub.execute_input": "2023-02-03T14:05:41.854893Z",
     "iopub.status.busy": "2023-02-03T14:05:41.854426Z",
     "iopub.status.idle": "2023-02-03T14:05:41.863115Z",
     "shell.execute_reply": "2023-02-03T14:05:41.861668Z",
     "shell.execute_reply.started": "2023-02-03T14:05:41.854854Z"
    },
    "trusted": true
   },
   "outputs": [],
   "source": [
    "def modelCrossValidation(X, Y, algo):\n",
    "    validation = KFold(n_splits=5, shuffle=True, random_state=1)\n",
    "    statsNames = ['accuracy', 'balanced_accuracy', 'f1_weighted', 'f1_macro']\n",
    "\n",
    "    res = {}\n",
    "    for sname in statsNames:\n",
    "        res[sname] = round(cross_val_score(algo, X, Y, cv=validation, scoring=sname, n_jobs=-1).mean(), 4)\n",
    "    return res"
   ]
  },
  {
   "cell_type": "markdown",
   "metadata": {},
   "source": [
    "### Feature Importance"
   ]
  },
  {
   "cell_type": "code",
   "execution_count": null,
   "metadata": {
    "execution": {
     "iopub.execute_input": "2023-02-03T14:06:13.27056Z",
     "iopub.status.busy": "2023-02-03T14:06:13.270142Z",
     "iopub.status.idle": "2023-02-03T14:08:14.071396Z",
     "shell.execute_reply": "2023-02-03T14:08:14.070163Z",
     "shell.execute_reply.started": "2023-02-03T14:06:13.270526Z"
    },
    "trusted": true
   },
   "outputs": [],
   "source": [
    "# plot feature importance manually\n",
    "from numpy import loadtxt\n",
    "from xgboost import XGBClassifier\n",
    "from matplotlib import pyplot\n",
    "\n",
    "# fit model no training data\n",
    "model = XGBClassifier()\n",
    "model.fit(X_train, y_train)\n",
    "\n",
    "# feature importance\n",
    "print(model.feature_importances_)\n",
    "\n",
    "# plot\n",
    "pyplot.bar(range(len(model.feature_importances_)), model.feature_importances_)\n",
    "pyplot.show()"
   ]
  },
  {
   "cell_type": "code",
   "execution_count": null,
   "metadata": {
    "execution": {
     "iopub.execute_input": "2023-02-03T14:08:14.07381Z",
     "iopub.status.busy": "2023-02-03T14:08:14.073474Z",
     "iopub.status.idle": "2023-02-03T14:08:14.309474Z",
     "shell.execute_reply": "2023-02-03T14:08:14.308427Z",
     "shell.execute_reply.started": "2023-02-03T14:08:14.07378Z"
    },
    "trusted": true
   },
   "outputs": [],
   "source": [
    "importance = model.feature_importances_\n",
    "indices = np.argsort(importance)\n",
    "\n",
    "fig, ax = plt.subplots()\n",
    "ax.barh(range(len(importance)), importance[indices])\n",
    "ax.set_yticks(range(len(importance)))\n",
    "_ = ax.set_yticklabels(np.array(df_new.drop(columns=['genre','genre_enco']).columns)[indices])"
   ]
  },
  {
   "cell_type": "markdown",
   "metadata": {},
   "source": [
    "### Model Selection"
   ]
  },
  {
   "cell_type": "markdown",
   "metadata": {},
   "source": [
    "#### LogisticRegression"
   ]
  },
  {
   "cell_type": "code",
   "execution_count": null,
   "metadata": {
    "execution": {
     "iopub.execute_input": "2023-02-03T14:10:10.42802Z",
     "iopub.status.busy": "2023-02-03T14:10:10.427627Z",
     "iopub.status.idle": "2023-02-03T14:10:23.969504Z",
     "shell.execute_reply": "2023-02-03T14:10:23.967884Z",
     "shell.execute_reply.started": "2023-02-03T14:10:10.427989Z"
    },
    "trusted": true
   },
   "outputs": [],
   "source": [
    "# LogisticRegression\n",
    "from sklearn.linear_model import LogisticRegression\n",
    "model_LR = LogisticRegression(max_iter=1000);\n",
    "res_LR = buildModel(model_LR, X_train, X_test, y_train, y_test)\n",
    "\n",
    "print(res_LR[\"accuracy\"])"
   ]
  },
  {
   "cell_type": "markdown",
   "metadata": {},
   "source": [
    "#### Naive Bayes"
   ]
  },
  {
   "cell_type": "code",
   "execution_count": null,
   "metadata": {
    "execution": {
     "iopub.execute_input": "2023-02-03T14:10:23.978713Z",
     "iopub.status.busy": "2023-02-03T14:10:23.977769Z",
     "iopub.status.idle": "2023-02-03T14:10:24.099856Z",
     "shell.execute_reply": "2023-02-03T14:10:24.098456Z",
     "shell.execute_reply.started": "2023-02-03T14:10:23.978648Z"
    },
    "trusted": true
   },
   "outputs": [],
   "source": [
    "# Naive Bayes\n",
    "from sklearn.naive_bayes import GaussianNB\n",
    "model_NB = GaussianNB()\n",
    "res_NB = buildModel(model_NB, X_train, X_test, y_train, y_test)\n",
    "print(res_NB[\"accuracy\"])"
   ]
  },
  {
   "cell_type": "markdown",
   "metadata": {},
   "source": [
    "#### K-Nearest Neighbors"
   ]
  },
  {
   "cell_type": "code",
   "execution_count": null,
   "metadata": {
    "execution": {
     "iopub.execute_input": "2023-02-03T14:11:34.214889Z",
     "iopub.status.busy": "2023-02-03T14:11:34.214424Z",
     "iopub.status.idle": "2023-02-03T14:11:45.303428Z",
     "shell.execute_reply": "2023-02-03T14:11:45.302337Z",
     "shell.execute_reply.started": "2023-02-03T14:11:34.214854Z"
    },
    "trusted": true
   },
   "outputs": [],
   "source": [
    "# K-Nearest Neighbors\n",
    "from sklearn.neighbors import KNeighborsClassifier\n",
    "model_KNN = KNeighborsClassifier(n_neighbors=4) # n_neighbors=3\n",
    "res_KNN = buildModel(model_KNN, X_train, X_test, y_train, y_test)\n",
    "\n",
    "scoring.append(['KNeighbors', res_KNN[\"accuracy\"]])\n",
    "scoring[1]"
   ]
  },
  {
   "cell_type": "code",
   "execution_count": null,
   "metadata": {
    "execution": {
     "iopub.execute_input": "2023-02-03T14:12:52.786124Z",
     "iopub.status.busy": "2023-02-03T14:12:52.785476Z",
     "iopub.status.idle": "2023-02-03T14:12:53.866856Z",
     "shell.execute_reply": "2023-02-03T14:12:53.865621Z",
     "shell.execute_reply.started": "2023-02-03T14:12:52.786065Z"
    },
    "trusted": true
   },
   "outputs": [],
   "source": [
    "cm = confusion_matrix(y_test, res_KNN['predict'])\n",
    "fig = plt.subplots(figsize=(12, 10))\n",
    "ax = sns.heatmap(cm, annot=True, fmt=\"d\", cmap=\"Blues\")"
   ]
  },
  {
   "cell_type": "markdown",
   "metadata": {},
   "source": [
    "#### Decision Tree"
   ]
  },
  {
   "cell_type": "code",
   "execution_count": null,
   "metadata": {
    "execution": {
     "iopub.execute_input": "2023-02-03T14:13:58.034546Z",
     "iopub.status.busy": "2023-02-03T14:13:58.034067Z",
     "iopub.status.idle": "2023-02-03T14:13:59.132947Z",
     "shell.execute_reply": "2023-02-03T14:13:59.131778Z",
     "shell.execute_reply.started": "2023-02-03T14:13:58.034505Z"
    },
    "trusted": true
   },
   "outputs": [],
   "source": [
    "# Decision Tree\n",
    "from sklearn.tree import DecisionTreeClassifier\n",
    "model_DT = DecisionTreeClassifier(max_depth=10, min_samples_split=10, random_state=42)\n",
    "res_DT = buildModel(model_DT, X_train, X_test, y_train, y_test)\n",
    "print(res_DT[\"accuracy\"])"
   ]
  },
  {
   "cell_type": "code",
   "execution_count": null,
   "metadata": {
    "execution": {
     "iopub.execute_input": "2023-02-03T14:14:00.631696Z",
     "iopub.status.busy": "2023-02-03T14:14:00.631003Z",
     "iopub.status.idle": "2023-02-03T14:14:00.639568Z",
     "shell.execute_reply": "2023-02-03T14:14:00.638046Z",
     "shell.execute_reply.started": "2023-02-03T14:14:00.631635Z"
    },
    "trusted": true
   },
   "outputs": [],
   "source": [
    "# get importance\n",
    "importance = model_DT.feature_importances_\n",
    "# summarize feature importance\n",
    "for i,v in enumerate(importance):\n",
    "    print('Feature: %0d, Score: %.5f' % (i,v))"
   ]
  },
  {
   "cell_type": "code",
   "execution_count": null,
   "metadata": {
    "execution": {
     "iopub.execute_input": "2023-02-03T14:14:03.031404Z",
     "iopub.status.busy": "2023-02-03T14:14:03.030876Z",
     "iopub.status.idle": "2023-02-03T14:14:03.245681Z",
     "shell.execute_reply": "2023-02-03T14:14:03.24427Z",
     "shell.execute_reply.started": "2023-02-03T14:14:03.031337Z"
    },
    "trusted": true
   },
   "outputs": [],
   "source": [
    "# plot feature importance\n",
    "indices = np.argsort(importance)\n",
    "\n",
    "fig, ax = plt.subplots()\n",
    "ax.barh(range(len(importance)), importance[indices])\n",
    "ax.set_yticks(range(len(importance)))\n",
    "_ = ax.set_yticklabels(np.array(df_new.columns)[indices])"
   ]
  },
  {
   "cell_type": "markdown",
   "metadata": {},
   "source": [
    "#### Random Forest"
   ]
  },
  {
   "cell_type": "code",
   "execution_count": null,
   "metadata": {
    "execution": {
     "iopub.execute_input": "2023-02-03T14:16:14.320275Z",
     "iopub.status.busy": "2023-02-03T14:16:14.319754Z",
     "iopub.status.idle": "2023-02-03T14:20:57.854964Z",
     "shell.execute_reply": "2023-02-03T14:20:57.853723Z",
     "shell.execute_reply.started": "2023-02-03T14:16:14.320231Z"
    },
    "trusted": true
   },
   "outputs": [],
   "source": [
    "# Random Forest\n",
    "from sklearn.ensemble import RandomForestClassifier\n",
    "\n",
    "# Train Accuracy \n",
    "k = 5\n",
    "model_RF = RandomForestClassifier(n_estimators=200, max_depth=30, random_state=3)\n",
    "cv_score = cross_val_score(model_RF, X_train, y_train, cv=k)\n",
    "print('Cross_val Scores: ', cv_score)\n",
    "print(\"Train Accuracy(average):\", cv_score.mean())\n",
    "\n",
    "# Test Accuracy\n",
    "clf_RF = model_RF.fit(X_train, y_train)\n",
    "y_pred = clf_RF.predict(X_test)\n",
    "score_accuracy = accuracy_score(y_test, y_pred)\n",
    "print(\"Test Accuracy:\", score_accuracy)\n",
    "scoring.append(['RandomForest', score_accuracy])"
   ]
  },
  {
   "cell_type": "code",
   "execution_count": null,
   "metadata": {
    "execution": {
     "iopub.execute_input": "2023-02-03T14:20:57.857208Z",
     "iopub.status.busy": "2023-02-03T14:20:57.856772Z",
     "iopub.status.idle": "2023-02-03T14:20:58.176775Z",
     "shell.execute_reply": "2023-02-03T14:20:58.175619Z",
     "shell.execute_reply.started": "2023-02-03T14:20:57.857176Z"
    },
    "trusted": true
   },
   "outputs": [],
   "source": [
    "# get importance\n",
    "importance = model_RF.feature_importances_\n",
    "# summarize feature importance\n",
    "for i,v in enumerate(importance):\n",
    "    print('Feature: %0d, Score: %.5f' % (i,v))\n",
    "# plot feature importance\n",
    "pyplot.bar([x for x in range(len(importance))], importance)\n",
    "pyplot.show()"
   ]
  },
  {
   "cell_type": "code",
   "execution_count": null,
   "metadata": {
    "execution": {
     "iopub.execute_input": "2023-02-03T14:20:58.178525Z",
     "iopub.status.busy": "2023-02-03T14:20:58.178192Z",
     "iopub.status.idle": "2023-02-03T14:20:58.426675Z",
     "shell.execute_reply": "2023-02-03T14:20:58.425454Z",
     "shell.execute_reply.started": "2023-02-03T14:20:58.178495Z"
    },
    "trusted": true
   },
   "outputs": [],
   "source": [
    "indices = np.argsort(importance)\n",
    "\n",
    "fig, ax = plt.subplots()\n",
    "ax.barh(range(len(importance)), importance[indices])\n",
    "ax.set_yticks(range(len(importance)))\n",
    "_ = ax.set_yticklabels(np.array(df_new.drop(columns=['genre','genre_enco']).columns)[indices])"
   ]
  },
  {
   "cell_type": "code",
   "execution_count": null,
   "metadata": {
    "execution": {
     "iopub.execute_input": "2023-02-03T14:20:58.430508Z",
     "iopub.status.busy": "2023-02-03T14:20:58.429304Z",
     "iopub.status.idle": "2023-02-03T14:20:58.487663Z",
     "shell.execute_reply": "2023-02-03T14:20:58.486444Z",
     "shell.execute_reply.started": "2023-02-03T14:20:58.430459Z"
    },
    "trusted": true
   },
   "outputs": [],
   "source": [
    "print(classification_report(y_test, y_pred))"
   ]
  },
  {
   "cell_type": "code",
   "execution_count": null,
   "metadata": {
    "execution": {
     "iopub.execute_input": "2023-02-03T14:20:58.490497Z",
     "iopub.status.busy": "2023-02-03T14:20:58.489653Z",
     "iopub.status.idle": "2023-02-03T14:20:59.704301Z",
     "shell.execute_reply": "2023-02-03T14:20:59.703224Z",
     "shell.execute_reply.started": "2023-02-03T14:20:58.490453Z"
    },
    "trusted": true
   },
   "outputs": [],
   "source": [
    "# y_pred = res_RF['predict']\n",
    "cm = confusion_matrix(y_test, y_pred)\n",
    "fig = plt.subplots(figsize=(12, 10))\n",
    "ax = sns.heatmap(cm, annot=True, fmt=\"d\", cmap=\"Blues\")"
   ]
  },
  {
   "cell_type": "markdown",
   "metadata": {},
   "source": [
    "#### SVM"
   ]
  },
  {
   "cell_type": "code",
   "execution_count": null,
   "metadata": {
    "execution": {
     "iopub.execute_input": "2023-02-03T14:22:44.834387Z",
     "iopub.status.busy": "2023-02-03T14:22:44.830823Z",
     "iopub.status.idle": "2023-02-03T14:50:12.419154Z",
     "shell.execute_reply": "2023-02-03T14:50:12.417977Z",
     "shell.execute_reply.started": "2023-02-03T14:22:44.834284Z"
    },
    "trusted": true
   },
   "outputs": [],
   "source": [
    "from sklearn.svm import SVC\n",
    "from sklearn.model_selection import cross_val_score\n",
    "\n",
    "k = 3\n",
    "\n",
    "# Train Accuracy \n",
    "model_svc = SVC(kernel=\"rbf\", C=1000, gamma=\"scale\") \n",
    "cv_score = cross_val_score(model_svc, X_train, y_train, cv=k)\n",
    "print('Cross_val Scores: ', cv_score)\n",
    "print(\"Train Accuracy(average):\", cv_score.mean()) \n",
    "\n",
    "# Test Accuracy\n",
    "clf_svc = model_svc.fit(X_train, y_train)\n",
    "y_pred = clf_svc.predict(X_test)\n",
    "score_accuracy = accuracy_score(y_test, y_pred)\n",
    "print(\"Test Accuracy:\", score_accuracy)\n",
    "scoring.append(['SVC', score_accuracy])"
   ]
  },
  {
   "cell_type": "code",
   "execution_count": null,
   "metadata": {
    "execution": {
     "iopub.execute_input": "2023-02-03T14:50:12.421739Z",
     "iopub.status.busy": "2023-02-03T14:50:12.420999Z",
     "iopub.status.idle": "2023-02-03T14:50:12.477558Z",
     "shell.execute_reply": "2023-02-03T14:50:12.476348Z",
     "shell.execute_reply.started": "2023-02-03T14:50:12.421691Z"
    },
    "trusted": true
   },
   "outputs": [],
   "source": [
    "print(classification_report(y_test, y_pred))"
   ]
  },
  {
   "cell_type": "code",
   "execution_count": null,
   "metadata": {
    "execution": {
     "iopub.execute_input": "2023-02-03T14:50:40.334077Z",
     "iopub.status.busy": "2023-02-03T14:50:40.333662Z",
     "iopub.status.idle": "2023-02-03T14:50:41.396626Z",
     "shell.execute_reply": "2023-02-03T14:50:41.395457Z",
     "shell.execute_reply.started": "2023-02-03T14:50:40.33404Z"
    },
    "trusted": true
   },
   "outputs": [],
   "source": [
    "# import seaborn as sns; sns.set()\n",
    "cm = confusion_matrix(y_test, y_pred)\n",
    "fig = plt.subplots(figsize=(12, 10))\n",
    "ax = sns.heatmap(cm, annot=True, fmt=\"d\", cmap=\"Blues\")"
   ]
  },
  {
   "cell_type": "markdown",
   "metadata": {},
   "source": [
    "#### Bagging"
   ]
  },
  {
   "cell_type": "code",
   "execution_count": null,
   "metadata": {
    "execution": {
     "iopub.execute_input": "2023-02-03T14:51:17.862792Z",
     "iopub.status.busy": "2023-02-03T14:51:17.862377Z",
     "iopub.status.idle": "2023-02-03T14:52:14.334039Z",
     "shell.execute_reply": "2023-02-03T14:52:14.332555Z",
     "shell.execute_reply.started": "2023-02-03T14:51:17.862758Z"
    },
    "trusted": true
   },
   "outputs": [],
   "source": [
    "# Bagging\n",
    "from sklearn.ensemble import BaggingClassifier\n",
    "k = 5\n",
    "\n",
    "# Train Accuracy \n",
    "model_Bag = BaggingClassifier()\n",
    "cv_score = cross_val_score(model_Bag, X_train, y_train, cv=k)\n",
    "print('Cross_val Scores: ', cv_score)\n",
    "print(\"Train Accuracy(average):\", cv_score.mean()) \n",
    "\n",
    "# Test Accuracy\n",
    "clf_bag = model_Bag.fit(X_train, y_train)\n",
    "y_pred = clf_bag.predict(X_test)\n",
    "score_accuracy = accuracy_score(y_test, y_pred)\n",
    "print(\"Test Accuracy:\", score_accuracy)\n",
    "scoring.append(['Bagging', score_accuracy])"
   ]
  },
  {
   "cell_type": "code",
   "execution_count": null,
   "metadata": {
    "execution": {
     "iopub.execute_input": "2023-02-03T14:52:27.144893Z",
     "iopub.status.busy": "2023-02-03T14:52:27.144443Z",
     "iopub.status.idle": "2023-02-03T14:52:27.203139Z",
     "shell.execute_reply": "2023-02-03T14:52:27.20224Z",
     "shell.execute_reply.started": "2023-02-03T14:52:27.144856Z"
    },
    "trusted": true
   },
   "outputs": [],
   "source": [
    "print(classification_report(y_test, y_pred))"
   ]
  },
  {
   "cell_type": "code",
   "execution_count": null,
   "metadata": {
    "execution": {
     "iopub.execute_input": "2023-02-03T14:52:39.447435Z",
     "iopub.status.busy": "2023-02-03T14:52:39.447036Z",
     "iopub.status.idle": "2023-02-03T14:52:40.542134Z",
     "shell.execute_reply": "2023-02-03T14:52:40.54085Z",
     "shell.execute_reply.started": "2023-02-03T14:52:39.4474Z"
    },
    "trusted": true
   },
   "outputs": [],
   "source": [
    "cm = confusion_matrix(y_test, y_pred)\n",
    "fig = plt.subplots(figsize=(12, 10))\n",
    "ax = sns.heatmap(cm, annot=True, fmt=\"d\", cmap=\"Blues\")"
   ]
  },
  {
   "cell_type": "markdown",
   "metadata": {},
   "source": [
    "### Compare Model Result"
   ]
  },
  {
   "cell_type": "code",
   "execution_count": null,
   "metadata": {
    "execution": {
     "iopub.execute_input": "2023-02-03T14:52:44.203177Z",
     "iopub.status.busy": "2023-02-03T14:52:44.202727Z",
     "iopub.status.idle": "2023-02-03T14:52:44.211218Z",
     "shell.execute_reply": "2023-02-03T14:52:44.210027Z",
     "shell.execute_reply.started": "2023-02-03T14:52:44.203142Z"
    },
    "trusted": true
   },
   "outputs": [],
   "source": [
    "from prettytable import PrettyTable\n",
    "table = PrettyTable()\n",
    "table.field_names = scoring[0]\n",
    "\n",
    "for i in range(len(scoring)):\n",
    "    if i!=0:\n",
    "        table.add_row(scoring[i])\n",
    "print(table)"
   ]
  },
  {
   "cell_type": "code",
   "execution_count": null,
   "metadata": {
    "execution": {
     "iopub.execute_input": "2023-02-03T14:53:43.972692Z",
     "iopub.status.busy": "2023-02-03T14:53:43.972232Z",
     "iopub.status.idle": "2023-02-03T14:53:44.051418Z",
     "shell.execute_reply": "2023-02-03T14:53:44.049907Z",
     "shell.execute_reply.started": "2023-02-03T14:53:43.972654Z"
    },
    "trusted": true
   },
   "outputs": [],
   "source": [
    "# draw chart to compare algorithms\n",
    "\n",
    "toChart = pd.DataFrame(scoring, columns =['algorithm', 'accuracy']) \n",
    "toChart.drop(0, inplace=True)\n",
    "\n",
    "px.bar(toChart, x=\"algorithm\", y=\"accuracy\")"
   ]
  }
 ],
 "metadata": {
  "kaggle": {
   "accelerator": "nvidiaTeslaT4",
   "dataSources": [
    {
     "datasetId": 1018569,
     "sourceId": 1717352,
     "sourceType": "datasetVersion"
    }
   ],
   "dockerImageVersionId": 30381,
   "isGpuEnabled": true,
   "isInternetEnabled": true,
   "language": "python",
   "sourceType": "notebook"
  },
  "kernelspec": {
   "display_name": "Python 3",
   "language": "python",
   "name": "python3"
  },
  "language_info": {
   "codemirror_mode": {
    "name": "ipython",
    "version": 3
   },
   "file_extension": ".py",
   "mimetype": "text/x-python",
   "name": "python",
   "nbconvert_exporter": "python",
   "pygments_lexer": "ipython3",
   "version": "3.6.4"
  }
 },
 "nbformat": 4,
 "nbformat_minor": 4
}
